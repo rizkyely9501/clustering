{
  "nbformat": 4,
  "nbformat_minor": 0,
  "metadata": {
    "colab": {
      "name": "Clustering K-Means",
      "provenance": [],
      "collapsed_sections": []
    },
    "kernelspec": {
      "name": "python3",
      "display_name": "Python 3"
    }
  },
  "cells": [
    {
      "cell_type": "markdown",
      "metadata": {
        "id": "ohl5IEbvncpr"
      },
      "source": [
        "# **Kegiatan Modul 6**"
      ]
    },
    {
      "cell_type": "markdown",
      "metadata": {
        "id": "kf3nSb4OhOVz"
      },
      "source": [
        "**Poin penilaian :**\n",
        "\n",
        "* Tingkat kesesuaian program\n",
        "* Kesesuaian step preprocessing dan pemodelan\n",
        "* Pemahaman materi\n",
        "* Kerapian kode program\n",
        "* Tidak ada error"
      ]
    },
    {
      "cell_type": "markdown",
      "metadata": {
        "id": "T3JnESqg8zk2"
      },
      "source": [
        "## **Customer Segmentation with K-Means**\n",
        "\n",
        "Bayangkan Anda memiliki dataset pelanggan, dan Anda perlu menerapkan segmentasi pelanggan pada data historis ini.\n",
        "Segmentasi pelanggan adalah praktik mempartisi basis pelanggan menjadi kelompok-kelompok individu yang memiliki karakteristik serupa. Ini adalah strategi yang signifikan karena bisnis dapat menargetkan kelompok pelanggan tertentu ini dan secara efektif mengalokasikan sumber daya pemasaran. Misalnya, satu grup mungkin berisi pelanggan yang untung tinggi dan berisiko rendah, yaitu, lebih mungkin membeli produk, atau berlangganan layanan. Tugas bisnis adalah mempertahankan pelanggan tersebut. Grup lain mungkin termasuk pelanggan dari organisasi nirlaba. Dan seterusnya."
      ]
    },
    {
      "cell_type": "code",
      "metadata": {
        "id": "S0H3mwSe2QF7",
        "colab": {
          "base_uri": "https://localhost:8080/"
        },
        "outputId": "9477d5a7-dbe4-4c5b-de43-3e7934e4300a"
      },
      "source": [
        "!wget -O Cust_Segmentation.csv https://s3-api.us-geo.objectstorage.softlayer.net/cf-courses-data/CognitiveClass/ML0101ENv3/labs/Cust_Segmentation.csv"
      ],
      "execution_count": null,
      "outputs": [
        {
          "output_type": "stream",
          "text": [
            "--2021-05-31 07:43:22--  https://s3-api.us-geo.objectstorage.softlayer.net/cf-courses-data/CognitiveClass/ML0101ENv3/labs/Cust_Segmentation.csv\n",
            "Resolving s3-api.us-geo.objectstorage.softlayer.net (s3-api.us-geo.objectstorage.softlayer.net)... 67.228.254.196\n",
            "Connecting to s3-api.us-geo.objectstorage.softlayer.net (s3-api.us-geo.objectstorage.softlayer.net)|67.228.254.196|:443... connected.\n",
            "HTTP request sent, awaiting response... 200 OK\n",
            "Length: 34276 (33K) [text/csv]\n",
            "Saving to: ‘Cust_Segmentation.csv’\n",
            "\n",
            "Cust_Segmentation.c 100%[===================>]  33.47K  --.-KB/s    in 0.08s   \n",
            "\n",
            "2021-05-31 07:43:23 (402 KB/s) - ‘Cust_Segmentation.csv’ saved [34276/34276]\n",
            "\n"
          ],
          "name": "stdout"
        }
      ]
    },
    {
      "cell_type": "markdown",
      "metadata": {
        "id": "aod0oUOG881d"
      },
      "source": [
        "## **Load Data From CSV File**\n",
        "\n",
        "Sebelum Anda dapat bekerja dengan data, Anda harus menggunakan URL untuk mendapatkan Cust_Segmentation.csv. **5 poin**"
      ]
    },
    {
      "cell_type": "markdown",
      "metadata": {
        "id": "dqh8ji8nTlwl"
      },
      "source": [
        "```\n",
        "# Output\n",
        "```\n",
        "<img src = \"https://i.ibb.co/dJtsP6g/1.png\" align = \"center\">"
      ]
    },
    {
      "cell_type": "code",
      "metadata": {
        "id": "1V9qNK-19FnA",
        "colab": {
          "base_uri": "https://localhost:8080/",
          "height": 195
        },
        "outputId": "995ac9a1-2e73-4c9b-aa44-8b8b8aca04aa"
      },
      "source": [
        "# TULIS CODE ANDA DISINI\n",
        "import pandas as pd\n",
        "\n",
        "data = pd.read_csv('Cust_Segmentation.csv')\n",
        "data.head()"
      ],
      "execution_count": null,
      "outputs": [
        {
          "output_type": "execute_result",
          "data": {
            "text/html": [
              "<div>\n",
              "<style scoped>\n",
              "    .dataframe tbody tr th:only-of-type {\n",
              "        vertical-align: middle;\n",
              "    }\n",
              "\n",
              "    .dataframe tbody tr th {\n",
              "        vertical-align: top;\n",
              "    }\n",
              "\n",
              "    .dataframe thead th {\n",
              "        text-align: right;\n",
              "    }\n",
              "</style>\n",
              "<table border=\"1\" class=\"dataframe\">\n",
              "  <thead>\n",
              "    <tr style=\"text-align: right;\">\n",
              "      <th></th>\n",
              "      <th>Customer Id</th>\n",
              "      <th>Age</th>\n",
              "      <th>Edu</th>\n",
              "      <th>Years Employed</th>\n",
              "      <th>Income</th>\n",
              "      <th>Card Debt</th>\n",
              "      <th>Other Debt</th>\n",
              "      <th>Defaulted</th>\n",
              "      <th>Address</th>\n",
              "      <th>DebtIncomeRatio</th>\n",
              "    </tr>\n",
              "  </thead>\n",
              "  <tbody>\n",
              "    <tr>\n",
              "      <th>0</th>\n",
              "      <td>1</td>\n",
              "      <td>41</td>\n",
              "      <td>2</td>\n",
              "      <td>6</td>\n",
              "      <td>19</td>\n",
              "      <td>0.124</td>\n",
              "      <td>1.073</td>\n",
              "      <td>0.0</td>\n",
              "      <td>NBA001</td>\n",
              "      <td>6.3</td>\n",
              "    </tr>\n",
              "    <tr>\n",
              "      <th>1</th>\n",
              "      <td>2</td>\n",
              "      <td>47</td>\n",
              "      <td>1</td>\n",
              "      <td>26</td>\n",
              "      <td>100</td>\n",
              "      <td>4.582</td>\n",
              "      <td>8.218</td>\n",
              "      <td>0.0</td>\n",
              "      <td>NBA021</td>\n",
              "      <td>12.8</td>\n",
              "    </tr>\n",
              "    <tr>\n",
              "      <th>2</th>\n",
              "      <td>3</td>\n",
              "      <td>33</td>\n",
              "      <td>2</td>\n",
              "      <td>10</td>\n",
              "      <td>57</td>\n",
              "      <td>6.111</td>\n",
              "      <td>5.802</td>\n",
              "      <td>1.0</td>\n",
              "      <td>NBA013</td>\n",
              "      <td>20.9</td>\n",
              "    </tr>\n",
              "    <tr>\n",
              "      <th>3</th>\n",
              "      <td>4</td>\n",
              "      <td>29</td>\n",
              "      <td>2</td>\n",
              "      <td>4</td>\n",
              "      <td>19</td>\n",
              "      <td>0.681</td>\n",
              "      <td>0.516</td>\n",
              "      <td>0.0</td>\n",
              "      <td>NBA009</td>\n",
              "      <td>6.3</td>\n",
              "    </tr>\n",
              "    <tr>\n",
              "      <th>4</th>\n",
              "      <td>5</td>\n",
              "      <td>47</td>\n",
              "      <td>1</td>\n",
              "      <td>31</td>\n",
              "      <td>253</td>\n",
              "      <td>9.308</td>\n",
              "      <td>8.908</td>\n",
              "      <td>0.0</td>\n",
              "      <td>NBA008</td>\n",
              "      <td>7.2</td>\n",
              "    </tr>\n",
              "  </tbody>\n",
              "</table>\n",
              "</div>"
            ],
            "text/plain": [
              "   Customer Id  Age  Edu  ...  Defaulted  Address  DebtIncomeRatio\n",
              "0            1   41    2  ...        0.0   NBA001              6.3\n",
              "1            2   47    1  ...        0.0   NBA021             12.8\n",
              "2            3   33    2  ...        1.0   NBA013             20.9\n",
              "3            4   29    2  ...        0.0   NBA009              6.3\n",
              "4            5   47    1  ...        0.0   NBA008              7.2\n",
              "\n",
              "[5 rows x 10 columns]"
            ]
          },
          "metadata": {
            "tags": []
          },
          "execution_count": 10
        }
      ]
    },
    {
      "cell_type": "markdown",
      "metadata": {
        "id": "vbUNmMQY9LOC"
      },
      "source": [
        "## **Pre-processing**"
      ]
    },
    {
      "cell_type": "markdown",
      "metadata": {
        "id": "8_0_Dism9KFj"
      },
      "source": [
        "Seperti yang Anda lihat, __Address__ dalam dataset ini adalah variabel kategorikal. Algoritma k-means tidak secara langsung berlaku untuk variabel kategori karena fungsi jarak Euclidean tidak benar-benar bermakna untuk variabel diskrit. Jadi, mari jatuhkan fitur ini dan jalankan pengelompokan. **10 poin**"
      ]
    },
    {
      "cell_type": "markdown",
      "metadata": {
        "id": "L63tLTYCUQpf"
      },
      "source": [
        "```\n",
        "# Output\n",
        "```\n",
        "<img src = \"https://i.ibb.co/X7yGzKX/2.png\" align = \"center\">\n"
      ]
    },
    {
      "cell_type": "code",
      "metadata": {
        "id": "aPoX6whM86dj",
        "colab": {
          "base_uri": "https://localhost:8080/",
          "height": 195
        },
        "outputId": "2aba674e-443d-4ed8-c176-227963698aec"
      },
      "source": [
        "# TULIS CODE ANDA DISINI\n",
        "data = data.drop('Address', axis = 1)\n",
        "data.head()\n"
      ],
      "execution_count": null,
      "outputs": [
        {
          "output_type": "execute_result",
          "data": {
            "text/html": [
              "<div>\n",
              "<style scoped>\n",
              "    .dataframe tbody tr th:only-of-type {\n",
              "        vertical-align: middle;\n",
              "    }\n",
              "\n",
              "    .dataframe tbody tr th {\n",
              "        vertical-align: top;\n",
              "    }\n",
              "\n",
              "    .dataframe thead th {\n",
              "        text-align: right;\n",
              "    }\n",
              "</style>\n",
              "<table border=\"1\" class=\"dataframe\">\n",
              "  <thead>\n",
              "    <tr style=\"text-align: right;\">\n",
              "      <th></th>\n",
              "      <th>Customer Id</th>\n",
              "      <th>Age</th>\n",
              "      <th>Edu</th>\n",
              "      <th>Years Employed</th>\n",
              "      <th>Income</th>\n",
              "      <th>Card Debt</th>\n",
              "      <th>Other Debt</th>\n",
              "      <th>Defaulted</th>\n",
              "      <th>DebtIncomeRatio</th>\n",
              "    </tr>\n",
              "  </thead>\n",
              "  <tbody>\n",
              "    <tr>\n",
              "      <th>0</th>\n",
              "      <td>1</td>\n",
              "      <td>41</td>\n",
              "      <td>2</td>\n",
              "      <td>6</td>\n",
              "      <td>19</td>\n",
              "      <td>0.124</td>\n",
              "      <td>1.073</td>\n",
              "      <td>0.0</td>\n",
              "      <td>6.3</td>\n",
              "    </tr>\n",
              "    <tr>\n",
              "      <th>1</th>\n",
              "      <td>2</td>\n",
              "      <td>47</td>\n",
              "      <td>1</td>\n",
              "      <td>26</td>\n",
              "      <td>100</td>\n",
              "      <td>4.582</td>\n",
              "      <td>8.218</td>\n",
              "      <td>0.0</td>\n",
              "      <td>12.8</td>\n",
              "    </tr>\n",
              "    <tr>\n",
              "      <th>2</th>\n",
              "      <td>3</td>\n",
              "      <td>33</td>\n",
              "      <td>2</td>\n",
              "      <td>10</td>\n",
              "      <td>57</td>\n",
              "      <td>6.111</td>\n",
              "      <td>5.802</td>\n",
              "      <td>1.0</td>\n",
              "      <td>20.9</td>\n",
              "    </tr>\n",
              "    <tr>\n",
              "      <th>3</th>\n",
              "      <td>4</td>\n",
              "      <td>29</td>\n",
              "      <td>2</td>\n",
              "      <td>4</td>\n",
              "      <td>19</td>\n",
              "      <td>0.681</td>\n",
              "      <td>0.516</td>\n",
              "      <td>0.0</td>\n",
              "      <td>6.3</td>\n",
              "    </tr>\n",
              "    <tr>\n",
              "      <th>4</th>\n",
              "      <td>5</td>\n",
              "      <td>47</td>\n",
              "      <td>1</td>\n",
              "      <td>31</td>\n",
              "      <td>253</td>\n",
              "      <td>9.308</td>\n",
              "      <td>8.908</td>\n",
              "      <td>0.0</td>\n",
              "      <td>7.2</td>\n",
              "    </tr>\n",
              "  </tbody>\n",
              "</table>\n",
              "</div>"
            ],
            "text/plain": [
              "   Customer Id  Age  Edu  ...  Other Debt  Defaulted  DebtIncomeRatio\n",
              "0            1   41    2  ...       1.073        0.0              6.3\n",
              "1            2   47    1  ...       8.218        0.0             12.8\n",
              "2            3   33    2  ...       5.802        1.0             20.9\n",
              "3            4   29    2  ...       0.516        0.0              6.3\n",
              "4            5   47    1  ...       8.908        0.0              7.2\n",
              "\n",
              "[5 rows x 9 columns]"
            ]
          },
          "metadata": {
            "tags": []
          },
          "execution_count": 11
        }
      ]
    },
    {
      "cell_type": "markdown",
      "metadata": {
        "id": "m9VcifdR9R1k"
      },
      "source": [
        "## **Normalizing over the standard deviation**\n",
        "\n",
        "Sekarang mari kita normalkan dataset. Tapi mengapa kita perlu normalisasi? Normalisasi adalah metode statistik yang membantu algoritma berbasis matematika untuk menafsirkan fitur dengan besaran dan distribusi yang berbeda secara merata. Kami menggunakan __tandardScaler()__ untuk menormalkan dataset kami. **10 poin**\n"
      ]
    },
    {
      "cell_type": "markdown",
      "metadata": {
        "id": "ImVSOvKrRDdT"
      },
      "source": [
        "\n",
        "\n",
        "```\n",
        "# Output\n",
        "\n",
        "array([[ 0.74291541,  0.31212243, -0.37878978, ..., -0.59048916,\n",
        "        -0.52379654, -0.57652509],\n",
        "       [ 1.48949049, -0.76634938,  2.5737211 , ...,  1.51296181,\n",
        "        -0.52379654,  0.39138677],\n",
        "       [-0.25251804,  0.31212243,  0.2117124 , ...,  0.80170393,\n",
        "         1.90913822,  1.59755385],\n",
        "       ...,\n",
        "       [-1.24795149,  2.46906604, -1.26454304, ...,  0.03863257,\n",
        "         1.90913822,  3.45892281],\n",
        "       [-0.37694723, -0.76634938,  0.50696349, ..., -0.70147601,\n",
        "        -0.52379654, -1.08281745],\n",
        "       [ 2.1116364 , -0.76634938,  1.09746566, ...,  0.16463355,\n",
        "        -0.52379654, -0.2340332 ]])\n",
        "        \n",
        "```\n",
        "\n"
      ]
    },
    {
      "cell_type": "code",
      "metadata": {
        "id": "Iyn-9tlr9PF6",
        "colab": {
          "base_uri": "https://localhost:8080/"
        },
        "outputId": "35235a80-05e8-4483-b61b-86893354ee8b"
      },
      "source": [
        "from sklearn.preprocessing import StandardScaler\n",
        "import numpy as np\n",
        "\n",
        "\n",
        "X = data.values[:,1:]\n",
        "X = np.nan_to_num(X)\n",
        "clustered_data = StandardScaler().fit_transform(X)\n",
        "clustered_data"
      ],
      "execution_count": null,
      "outputs": [
        {
          "output_type": "execute_result",
          "data": {
            "text/plain": [
              "array([[ 0.74291541,  0.31212243, -0.37878978, ..., -0.59048916,\n",
              "        -0.52379654, -0.57652509],\n",
              "       [ 1.48949049, -0.76634938,  2.5737211 , ...,  1.51296181,\n",
              "        -0.52379654,  0.39138677],\n",
              "       [-0.25251804,  0.31212243,  0.2117124 , ...,  0.80170393,\n",
              "         1.90913822,  1.59755385],\n",
              "       ...,\n",
              "       [-1.24795149,  2.46906604, -1.26454304, ...,  0.03863257,\n",
              "         1.90913822,  3.45892281],\n",
              "       [-0.37694723, -0.76634938,  0.50696349, ..., -0.70147601,\n",
              "        -0.52379654, -1.08281745],\n",
              "       [ 2.1116364 , -0.76634938,  1.09746566, ...,  0.16463355,\n",
              "        -0.52379654, -0.2340332 ]])"
            ]
          },
          "metadata": {
            "tags": []
          },
          "execution_count": 13
        }
      ]
    },
    {
      "cell_type": "markdown",
      "metadata": {
        "id": "zGxmnusZ9kBd"
      },
      "source": [
        "## **Modeling**"
      ]
    },
    {
      "cell_type": "markdown",
      "metadata": {
        "id": "idPY48Zh9hsF"
      },
      "source": [
        "Dalam contoh kami (jika kami tidak memiliki akses ke algoritma k-means), itu akan sama dengan menebak bahwa setiap kelompok pelanggan akan memiliki usia, pendapatan, pendidikan, dll tertentu, dengan beberapa tes dan eksperimen. Namun, dengan menggunakan K-means clustering, kita dapat melakukan semua proses ini dengan lebih mudah.\n",
        "\n",
        "Mari kita terapkan k-means pada dataset kami, dan lihat label klaster. **20 poin**"
      ]
    },
    {
      "cell_type": "markdown",
      "metadata": {
        "id": "PwXYd3M4RUg4"
      },
      "source": [
        "\n",
        "\n",
        "```\n",
        "# Contoh Output\n",
        "\n",
        "[2 0 2 2 1 0 2 0 2 0 0 2 2 2 2 2 2 2 0 2 2 2 2 0 0 0 2 2 0 2 0 2 2 2 2 2 2\n",
        " 2 2 0 2 0 2 1 2 0 2 2 2 0 0 2 2 0 0 2 2 2 0 2 0 2 0 0 2 2 0 2 2 2 0 0 0 2\n",
        " 2 2 2 2 0 2 0 0 1 2 2 2 2 2 2 2 0 2 2 2 2 2 2 2 2 2 2 0 0 2 2 2 2 2 2 0 2\n",
        " 2 2 2 2 2 2 2 0 2 2 2 2 2 2 0 2 2 2 2 2 0 2 2 2 2 0 2 2 2 2 2 2 2 0 2 0 2\n",
        " 2 2 2 2 2 2 0 2 0 0 2 0 2 2 0 2 2 2 2 2 2 2 0 2 2 2 2 2 2 2 2 0 2 2 2 0 2\n",
        " 2 2 2 2 0 2 2 0 2 0 2 2 0 1 2 0 2 2 2 2 2 2 1 0 2 2 2 2 0 2 2 0 0 2 0 2 0\n",
        " 2 2 2 2 0 2 2 2 2 2 2 2 0 2 2 2 2 2 2 2 2 2 2 1 0 2 2 2 2 2 2 2 0 2 2 2 2\n",
        " 2 2 0 2 2 0 2 2 0 2 2 2 2 2 2 2 2 2 2 2 2 2 0 0 2 0 2 0 2 0 0 2 2 2 2 2 2\n",
        " 2 2 2 0 0 0 2 2 2 0 2 2 2 2 2 2 2 2 2 2 2 2 2 2 0 2 0 2 2 2 2 2 0 2 0 0 2\n",
        " 2 2 2 2 0 2 2 2 2 2 2 0 2 2 0 2 2 0 2 2 2 2 2 0 2 2 2 1 2 2 2 0 2 0 0 0 2\n",
        " 2 2 0 2 2 2 2 2 2 2 2 2 2 2 0 2 0 2 2 2 2 2 2 2 2 2 2 0 2 2 2 2 2 2 2 2 2\n",
        " 2 0 2 2 0 2 2 2 2 0 2 2 2 2 0 2 2 0 2 2 2 2 2 2 2 2 2 0 2 2 2 0 2 2 2 2 1\n",
        " 2 2 2 2 2 2 0 2 2 2 1 2 2 2 2 0 2 1 2 2 2 2 0 2 0 0 0 2 2 0 0 2 2 2 2 2 2\n",
        " 2 0 2 2 2 2 0 2 2 2 0 2 0 2 2 2 0 2 2 2 2 0 0 2 2 2 2 0 2 2 2 2 0 2 2 2 2\n",
        " 2 0 0 2 2 2 2 2 2 2 2 2 2 2 1 0 2 2 2 2 2 2 0 2 2 2 2 0 2 2 0 2 2 1 2 1 2\n",
        " 2 1 2 2 2 2 2 2 2 2 2 0 2 0 2 2 1 2 2 2 2 2 2 2 2 0 2 2 2 2 2 2 2 2 0 2 0\n",
        " 2 2 2 2 2 2 0 2 2 2 2 0 2 0 2 2 2 2 2 2 2 2 2 2 2 2 2 2 0 2 2 2 2 2 2 2 0\n",
        " 0 2 2 0 2 0 2 2 0 2 0 2 2 1 2 0 2 0 2 2 2 2 2 0 0 2 2 2 2 0 2 2 2 0 0 2 2\n",
        " 0 2 2 2 0 2 1 2 2 0 2 2 2 2 2 2 2 0 2 2 2 0 2 2 2 2 2 0 2 2 0 2 2 2 2 2 2\n",
        " 2 2 0 2 2 0 2 0 2 0 0 2 2 2 0 2 0 2 2 2 2 2 0 2 2 2 2 0 0 2 2 0 0 2 2 2 2\n",
        " 2 0 2 2 2 2 0 2 2 2 2 2 2 2 2 2 2 2 0 2 0 0 2 0 2 0 0 2 2 0 2 2 2 2 2 0 0\n",
        " 2 2 2 2 2 2 2 0 2 2 2 2 2 2 1 0 0 2 2 2 2 2 2 2 0 2 2 2 2 2 2 0 2 2 2 2 2\n",
        " 2 2 2 2 2 2 2 2 2 2 2 0 2 2 2 2 2 2 2 2 2 2 2 2 2 2 2 0 2 2 2 2 2 2 2 0]\n",
        "```\n",
        "\n"
      ]
    },
    {
      "cell_type": "code",
      "metadata": {
        "id": "2cufSYqa9oz2"
      },
      "source": [
        "# TULIS CODE ANDA DISINI\n",
        "from sklearn.cluster import KMeans\n",
        "\n",
        "clusterNum = 3\n"
      ],
      "execution_count": null,
      "outputs": []
    },
    {
      "cell_type": "markdown",
      "metadata": {
        "id": "xE5aDjL1-3yX"
      },
      "source": [
        "## **Insights**\n",
        "\n",
        "Tetapkan label klaster untuk setiap baris dalam dataframe. **5 poin**"
      ]
    },
    {
      "cell_type": "markdown",
      "metadata": {
        "id": "QKE8cr74Rb16"
      },
      "source": [
        "```\n",
        "# Output\n",
        "```\n",
        "<img src = \"https://i.ibb.co/7gbF6TS/3.png\" align = \"center\">"
      ]
    },
    {
      "cell_type": "code",
      "metadata": {
        "id": "4qgirW1A9d8C"
      },
      "source": [
        "# TULIS CODE ANDA DISINI"
      ],
      "execution_count": null,
      "outputs": []
    },
    {
      "cell_type": "markdown",
      "metadata": {
        "id": "AcFwid99-_iF"
      },
      "source": [
        "Kita dapat dengan mudah memeriksa nilai centroid dengan rata-rata fitur di setiap kluster. **5 poin**"
      ]
    },
    {
      "cell_type": "markdown",
      "metadata": {
        "id": "1vzyYz1SUjZn"
      },
      "source": [
        "```\n",
        "# Output\n",
        "```\n",
        "<img src = \"https://i.ibb.co/QdhLVSX/4.png\" align = \"center\">"
      ]
    },
    {
      "cell_type": "code",
      "metadata": {
        "id": "SMfFeNHL-8tE"
      },
      "source": [
        "# TULIS CODE ANDA DISINI"
      ],
      "execution_count": null,
      "outputs": []
    },
    {
      "cell_type": "markdown",
      "metadata": {
        "id": "N_HshuXw_GJr"
      },
      "source": [
        "Sekarang, mari kita lihat distribusi pelanggan berdasarkan usia dan pendapatan mereka: **15 poin**"
      ]
    },
    {
      "cell_type": "markdown",
      "metadata": {
        "id": "Q4wXbmH5UnAr"
      },
      "source": [
        "```\n",
        "# Output\n",
        "```\n",
        "<img src = \"https://i.ibb.co/dPhLWM2/5.png\" align = \"center\">"
      ]
    },
    {
      "cell_type": "code",
      "metadata": {
        "id": "BRscrccJ_B55"
      },
      "source": [
        "# TULIS CODE ANDA DISINI"
      ],
      "execution_count": null,
      "outputs": []
    },
    {
      "cell_type": "markdown",
      "metadata": {
        "id": "GEyB6PAd033N"
      },
      "source": [
        "Sekarang, buat plot dengan 3 parameter education, age dan income: **15 poin**"
      ]
    },
    {
      "cell_type": "markdown",
      "metadata": {
        "id": "9h6CGokSUqTM"
      },
      "source": [
        "```\n",
        "# Output\n",
        "```\n",
        "<img src = \"https://i.ibb.co/kcx2LFp/6.png\" align = \"center\">"
      ]
    },
    {
      "cell_type": "code",
      "metadata": {
        "id": "zEVLb6JW_ImS"
      },
      "source": [
        "# TULIS CODE ANDA DISINI"
      ],
      "execution_count": null,
      "outputs": []
    },
    {
      "cell_type": "markdown",
      "metadata": {
        "id": "gAJpEqg-1Z4z"
      },
      "source": [
        "Jelaskan kesimpulan dari hasil yang anda dapatkan dari kegiatan terkait segmentasi pelanggan diatas kepada asisten **20 poin**"
      ]
    }
  ]
}